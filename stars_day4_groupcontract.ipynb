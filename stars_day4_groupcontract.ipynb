{
 "cells": [
  {
   "cell_type": "markdown",
   "id": "96122184",
   "metadata": {},
   "source": [
    "# SDSU Training Astronomy Research Scholars (STARS)\n",
    "# Day 4: Making a Group Contract\n",
    "\n",
    "\n",
    "### Prof. Kate Rubin <br> July 8, 2022\n",
    "\n",
    "&copy; 2022 Kate Rubin"
   ]
  },
  {
   "cell_type": "markdown",
   "id": "08890531",
   "metadata": {},
   "source": [
    "## Let's Be Explicit About Group Expectations: Making a Group Contract\n",
    " * Should focus on behaviours that will be expected of all group members, and should only include those behaviours that are crucial to the group's effectiveness.  \n",
    " * Outline of the specific process for dealing with unmet expectations or other problems that might arise.\n",
    " * Include an agreed-upon method for peer feedback so that problems can be addressed in a timely manner.\n",
    " \n",
    " * An example: https://international.humber.ca/assets/files/Group-or-Team-Charter.pdf\n",
    " "
   ]
  },
  {
   "cell_type": "markdown",
   "id": "a129b7c4",
   "metadata": {},
   "source": [
    "### Take 10 minutes to review the example above, and then to reflect on and write down what you like and do not like about working in a group.  \n",
    " * Consider your past experiences: what went well?  What didn't go well?  What are your strengths when it comes to working collaboratively, and what is something you would like to improve on?\n",
    " \n",
    " Then we will construct a full-group contract here: https://docs.google.com/document/d/1sBesX5yYArRoIyYqxZIptuRowquk-isX4URWbbHB6vs/edit?usp=sharing"
   ]
  }
 ],
 "metadata": {
  "kernelspec": {
   "display_name": "Python 3 (ipykernel)",
   "language": "python",
   "name": "python3"
  },
  "language_info": {
   "codemirror_mode": {
    "name": "ipython",
    "version": 3
   },
   "file_extension": ".py",
   "mimetype": "text/x-python",
   "name": "python",
   "nbconvert_exporter": "python",
   "pygments_lexer": "ipython3",
   "version": "3.9.12"
  }
 },
 "nbformat": 4,
 "nbformat_minor": 5
}
