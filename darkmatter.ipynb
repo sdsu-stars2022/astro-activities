{
 "cells": [
  {
   "cell_type": "code",
   "execution_count": null,
   "id": "9d19103b",
   "metadata": {},
   "outputs": [],
   "source": [
    "import numpy as np\n",
    "from scipy.optimize import fmin\n",
    "import astropy.units as u\n",
    "from astropy import constants\n",
    "\n",
    "%matplotlib inline\n",
    "import matplotlib.pyplot as plt"
   ]
  },
  {
   "cell_type": "code",
   "execution_count": null,
   "id": "3dca05b4",
   "metadata": {},
   "outputs": [],
   "source": [
    "# change plotting defaults\n",
    "plt.rc('axes', labelsize=14)\n",
    "plt.rc('axes', labelweight='bold')\n",
    "plt.rc('axes', titlesize=16)\n",
    "plt.rc('axes', titleweight='bold')\n",
    "plt.rc('font', family='sans-serif')\n",
    "plt.rcParams['errorbar.capsize'] = 3\n",
    "opts = {'mec':'k', 'mew': 0.5, 'lw': 1}\n",
    "plt.rcParams['figure.figsize'] = (12, 8)\n",
    "plt.rcParams['xtick.direction'] = 'out'\n",
    "plt.rcParams['ytick.direction'] = 'out'\n",
    "plt.rcParams['xtick.top'] = True\n",
    "plt.rcParams['ytick.right'] = True\n",
    "plt.rcParams['xtick.minor.visible'] = True\n",
    "plt.rcParams['ytick.minor.visible'] = True\n",
    "plt.rcParams['axes.grid'] = True"
   ]
  },
  {
   "cell_type": "markdown",
   "id": "631a1374",
   "metadata": {},
   "source": [
    "# Dark Matter\n",
    "\n",
    "### Credit: M. Baer and SDSU Astr109 Lab Materials"
   ]
  },
  {
   "cell_type": "markdown",
   "id": "37a8dc6d",
   "metadata": {},
   "source": [
    "\n",
    "## Step 0. Background & Motivation\n",
    "\n",
    "Over the course of this program, you've been introduced to the concept of dark matter, and its importance in galaxy formation. However, the discovery of dark matter was no mean feat. As its name implies, dark matter does not absorb nor reflect electromagnetic radiation (light), so we cannot rely on visual detection of this matter. Instead, our knowledge of the laws of gravity and motion led to the discovery of dark matter.\n",
    "\n",
    "In this activity, you will be computing the *total mass* of the galaxy NGC 2742 using these same gravitational laws, and comparing/contrasting this against the mass one would estimate from the matter we can see, otherwise known as the *luminous mass*. Since the overwhelming majority of this mass is represented by stars, this is also referred to as a galaxy's *stellar mass*. To do this, you will be using real rotation data collected by Vera Rubin et al. in 1985, and an analytical model of the galaxy's integrated light.\n",
    "\n",
    "**Optional Portion:** For the first step of this activity, you may choose to use $\\chi^2$ minimization to better constrain your model parameters. For a tutorial on this technique, check out [this video](https://www.youtube.com/watch?v=TSNV-4K3Fws) by Prof. Quimby."
   ]
  },
  {
   "cell_type": "markdown",
   "id": "319e3a30",
   "metadata": {},
   "source": [
    "## Step 1. Compute a Rotation Curve\n",
    "\n",
    "Provided in an ASCII file in this directory is data for the rotation curve of the galaxy NGC 2742 provided by [Rubin et al. 1985](https://ui.adsabs.harvard.edu/abs/1985ApJ...289...81R/abstract)."
   ]
  },
  {
   "cell_type": "code",
   "execution_count": null,
   "id": "0618b4e2",
   "metadata": {},
   "outputs": [],
   "source": [
    "data = np.genfromtxt('ngc2742rv.dat', comments='#', names='r, v, err') # make note of the keys\n",
    "plt.errorbar(data['r'], data['v'], data['err'], marker='o', c='k', ls='none')\n",
    "plt.xlabel('Radius from center (kpc)')\n",
    "plt.ylabel('Rotation velocity (km/s)')"
   ]
  },
  {
   "cell_type": "markdown",
   "id": "90dc2b9d",
   "metadata": {},
   "source": [
    "In the field of astronomy, we often like to find trends in data. This may be done by fitting a curve to the observed datapoints. Typically, we have to determine the nature of the fitted function ourselves, but you can use the following relation to fit the Rubin et al. data:\n",
    "\n",
    "$$\n",
    "    V = aR^b\n",
    "$$\n",
    "\n",
    "where $V$ is the rotation velocity in km/s, $R$ is the radius measured from the galaxy's center in kpc, and $a$ and $b$ are constants that you will vary to get a good fit. First, try to get a fit by eye utilizing `matplotlib` to visualize how the parameters $a, b$ change the fit of the curve to the data."
   ]
  },
  {
   "cell_type": "code",
   "execution_count": null,
   "id": "81d9664c",
   "metadata": {},
   "outputs": [],
   "source": [
    "# define your model\n",
    "def rotation_model(params, rs):\n",
    "    vs = ????\n",
    "    return vs"
   ]
  },
  {
   "cell_type": "code",
   "execution_count": null,
   "id": "c3f1130c",
   "metadata": {},
   "outputs": [],
   "source": [
    "# try a fit by-hand; plot your results to check as you go\n",
    "params = (????)\n",
    "\n",
    "rmod = ????\n",
    "vmod = rotation_model(????)"
   ]
  },
  {
   "cell_type": "markdown",
   "id": "6722e5d0",
   "metadata": {},
   "source": [
    "### Optional Step 1.5: $\\chi^2$ Minimization\n",
    "\n",
    "You may utilize $\\chi^2$ minimization to obtain best-fit values for the parameters $a$ and $b$ in a more numerically robust way. Remember:\n",
    "\n",
    "$$\n",
    "    \\chi^2 = \\sum_i\\left(\\frac{\\Delta Y_i}{\\sigma_i}\\right)^2\n",
    "$$"
   ]
  },
  {
   "cell_type": "code",
   "execution_count": null,
   "id": "6dfc4be0",
   "metadata": {},
   "outputs": [],
   "source": [
    "# write a chi-squared evaluation function**\n",
    "def get_chisq(params, data):\n",
    "    model = ????\n",
    "    dRV = ????\n",
    "    return ????"
   ]
  },
  {
   "cell_type": "code",
   "execution_count": null,
   "id": "e93d63be",
   "metadata": {},
   "outputs": [],
   "source": [
    "# test your code**\n",
    "get_chisq(????)"
   ]
  },
  {
   "cell_type": "code",
   "execution_count": null,
   "id": "5336154a",
   "metadata": {},
   "outputs": [],
   "source": [
    "# get best-fit parameters with chi-square minimization**\n",
    "params = fmin(????)"
   ]
  },
  {
   "cell_type": "code",
   "execution_count": null,
   "id": "e3603e19",
   "metadata": {},
   "outputs": [],
   "source": [
    "# evaluate a model**\n",
    "vmod = rotation_model(????)\n",
    "chisq = get_chisq(????)\n",
    "\n",
    "# plot your best-fit model vs. data**\n",
    "????\n",
    "\n",
    "#**remember that these steps are all optional; if you get stuck, feel free to use your\n",
    "#  parameters you evaluated by hand!"
   ]
  },
  {
   "cell_type": "markdown",
   "id": "23ceb72d",
   "metadata": {},
   "source": [
    "## Step 2. Compute a Cumulous Luminosity Distribution\n",
    "\n",
    "In order to determine the luminous mass of a galaxy, we need (1) a map of its surface brightness (or luminosity per unit area), and (2) knowledge of how much mass is associated with a given amount of starlight.  Measuring these is hard work.  To make your life easier, for (1) you can utilize this formula for the luminosity contained with a radius $R$ from the center, otherwise known as a cumulous luminosity distribution (CLD):\n",
    "\n",
    "$$\n",
    "    L_R = 2\\pi h^2\\Sigma_0\\left[1 - e^{-R/h}\\left(1 + \\frac{R}{h}\\right)\\right].\n",
    "$$\n",
    "\n",
    "Here, $L_R$ is the luminosity contained within $R$, and $h = 3.8\\:\\mathrm{kpc}$ is a scale length (the distance in $R$ space across which $L_R$ decreases by a factor of $e$).  The parameter $\\Sigma_0 = 6.725\\times10^7\\:\\mathrm{L_\\odot} / \\mathrm{kpc}^2$ is the surface brightness at the center of the galaxy (the stellar luminosity per unit area). Use the cells below to write a function that computes $L_R(R)$.\n",
    "\n",
    "**NOTE:** The numerical values of $h$ and $\\Sigma_0$ given above are measured specifically for NGC 2742."
   ]
  },
  {
   "cell_type": "code",
   "execution_count": null,
   "id": "73c1f340",
   "metadata": {},
   "outputs": [],
   "source": [
    "# compute the CLD as a function of radius\n",
    "????"
   ]
  },
  {
   "cell_type": "code",
   "execution_count": null,
   "id": "f96ddb7d",
   "metadata": {},
   "outputs": [],
   "source": [
    "# plot the CLD\n",
    "????"
   ]
  },
  {
   "cell_type": "markdown",
   "id": "ddf8da14",
   "metadata": {},
   "source": [
    "## Step 3. Compute a Mass From Rotation\n",
    "\n",
    "As discussed in the lectures by Prof. Sandquist on gravity, rotation velocity and mass contained within a given radius $\\left(M\\right)$ are related in the following way:\n",
    "\n",
    "$$\n",
    "    M = \\frac{V^2R}{G}\n",
    "$$\n",
    "\n",
    "where $G$ is Newton's gravitational constant. This value is available in `astropy.constants`. **Make sure you're using the correct units to compute a result in Solar masses.**"
   ]
  },
  {
   "cell_type": "code",
   "execution_count": null,
   "id": "c867a562",
   "metadata": {},
   "outputs": [],
   "source": [
    "# compute the total mass\n",
    "????"
   ]
  },
  {
   "cell_type": "markdown",
   "id": "f44550f0",
   "metadata": {},
   "source": [
    "## Step 4. Compute a Mass from Light\n",
    "\n",
    "In order to compute the luminous (stellar) mass from our CLD, we will need a stellar mass-to-light ratio $\\left(\\Upsilon \\equiv \\frac{M_\\star}{L}\\right)$, which is the mass per unit luminosity produced by the stars in a galaxy. If given this quantity, the luminous mass can then simply be computed as:\n",
    "\n",
    "$$\n",
    "    M_\\star = \\Upsilon L_R\n",
    "$$\n",
    "\n",
    "For simplicity, we can assume here a typical value of $\\Upsilon = 2.0\\:\\mathrm{M_\\odot}/\\mathrm{L_\\odot}$, and that this value is constant as a function of stellar luminosity."
   ]
  },
  {
   "cell_type": "code",
   "execution_count": null,
   "id": "48f51d7c",
   "metadata": {},
   "outputs": [],
   "source": [
    "# compute the luminous mass\n",
    "????"
   ]
  },
  {
   "cell_type": "markdown",
   "id": "dbfffe7e",
   "metadata": {},
   "source": [
    "## Step 5. Plot Your Results\n",
    "\n",
    "On the same graph, plot the total mass computed from rotation and the luminous mass vs. $R$. You may want to make this a semi-log plot (i.e. make the y-axis scale logarithmic)."
   ]
  },
  {
   "cell_type": "code",
   "execution_count": null,
   "id": "2896f83b",
   "metadata": {},
   "outputs": [],
   "source": [
    "# make a plot of your total and luminous mass\n",
    "????"
   ]
  },
  {
   "cell_type": "markdown",
   "id": "4448f1aa",
   "metadata": {},
   "source": [
    "What do you notice about these curves? How and where are they similar or different?  Is this surprising? Why or why not?"
   ]
  },
  {
   "cell_type": "code",
   "execution_count": null,
   "id": "ce6061b4",
   "metadata": {},
   "outputs": [],
   "source": []
  }
 ],
 "metadata": {
  "kernelspec": {
   "display_name": "Python 3 (ipykernel)",
   "language": "python",
   "name": "python3"
  },
  "language_info": {
   "codemirror_mode": {
    "name": "ipython",
    "version": 3
   },
   "file_extension": ".py",
   "mimetype": "text/x-python",
   "name": "python",
   "nbconvert_exporter": "python",
   "pygments_lexer": "ipython3",
   "version": "3.8.13"
  }
 },
 "nbformat": 4,
 "nbformat_minor": 5
}
